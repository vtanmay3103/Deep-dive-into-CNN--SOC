{
 "cells": [
  {
   "cell_type": "code",
   "execution_count": 1,
   "metadata": {},
   "outputs": [],
   "source": [
    "import pandas as pd\n",
    "import numpy as np\n",
    "import torch\n",
    "import torchvision\n",
    "import torch.nn as nn\n",
    "import torch.nn.functional as F\n",
    "import torch.optim as optim\n",
    "from torch.optim import lr_scheduler\n",
    "from torch.autograd import Variable\n",
    "from torch.utils.data import DataLoader,Dataset\n",
    "from torchvision import transforms\n",
    "from torchvision.utils import make_grid\n",
    "\n",
    "import math\n",
    "import random\n",
    "\n",
    "import matplotlib.pyplot as plt\n",
    "%matplotlib inline\n",
    "\n",
    "from PIL import Image , ImageOps, ImageEnhance\n"
   ]
  },
  {
   "cell_type": "code",
   "execution_count": 2,
   "metadata": {},
   "outputs": [],
   "source": [
    "\n",
    "num_epochs = 5\n",
    "batch_size = 300\n",
    "\n"
   ]
  },
  {
   "cell_type": "code",
   "execution_count": 3,
   "metadata": {},
   "outputs": [],
   "source": [
    "class MNIST_data(Dataset):\n",
    "    \"\"\"MNIST dtaa set\"\"\"\n",
    "    \n",
    "    def __init__(self, file_path, \n",
    "                 transform_train =transforms.Compose([\n",
    "                           transforms.ToPILImage(),\n",
    "                           transforms.RandomRotation(5),\n",
    "                           transforms.RandomHorizontalFlip(0.5),\n",
    "                           transforms.RandomCrop(32, padding = 2),\n",
    "                           transforms.ToTensor(),\n",
    "                     transforms.Normalize(mean=(0.5,), std=(0.5,))\n",
    "                       ]),\n",
    "                 transform_test = transforms.Compose([\n",
    "                     transforms.ToPILImage(),\n",
    "                           transforms.ToTensor(),\n",
    "                     transforms.Normalize(mean=(0.5,), std=(0.5,))\n",
    "                       ])\n",
    "                ):\n",
    "        \n",
    "        df = pd.read_csv(file_path)\n",
    "        \n",
    "        if len(df.columns) == 784:\n",
    "            # test data\n",
    "            self.X = df.values.reshape((-1,28,28)).astype(np.uint8)[:,:,:,None]\n",
    "            self.y = None\n",
    "        else:\n",
    "            # training data\n",
    "            self.X = df.iloc[:,1:].values.reshape((-1,28,28)).astype(np.uint8)[:,:,:,None]\n",
    "            self.y = torch.from_numpy(df.iloc[:,0].values)\n",
    "            \n",
    "        self.transform_train = transform_train\n",
    "        self.transform_test = transform_test\n",
    "    \n",
    "    def __len__(self):\n",
    "        return len(self.X)\n",
    "\n",
    "    def __getitem__(self, idx):\n",
    "        if self.y is None:\n",
    "            return self.transform_test(self.X[idx])\n",
    "        else:\n",
    "            return self.transform_train(self.X[idx]) , self.y[idx]       "
   ]
  },
  {
   "cell_type": "code",
   "execution_count": 4,
   "metadata": {},
   "outputs": [
    {
     "data": {
      "text/plain": [
       "device(type='cuda')"
      ]
     },
     "execution_count": 4,
     "metadata": {},
     "output_type": "execute_result"
    }
   ],
   "source": [
    "device = torch.device('cuda')\n",
    "device"
   ]
  },
  {
   "cell_type": "code",
   "execution_count": 5,
   "metadata": {},
   "outputs": [],
   "source": [
    "train_dataset = MNIST_data('fashion-mnist_train.csv',transform_train =transforms.Compose([\n",
    "                           transforms.ToPILImage(),\n",
    "                           transforms.RandomRotation(5),\n",
    "                           transforms.RandomHorizontalFlip(0.5),\n",
    "                           transforms.RandomCrop(32, padding = 2),\n",
    "                           transforms.ToTensor(),\n",
    "                     transforms.Normalize(mean=(0.5,), std=(0.5,))\n",
    "                       ]),\n",
    "                 transform_test = transforms.Compose([\n",
    "                     transforms.ToPILImage(),\n",
    "                           transforms.ToTensor(),\n",
    "                     transforms.Normalize(mean=(0.5,), std=(0.5,))\n",
    "                       ])\n",
    "                )\n",
    "test_dataset = MNIST_data('fashion-mnist_test.csv',transform_train =transforms.Compose([\n",
    "                           transforms.ToPILImage(),\n",
    "                           transforms.RandomRotation(5),\n",
    "                           transforms.RandomHorizontalFlip(0.5),\n",
    "                           transforms.RandomCrop(32, padding = 2),\n",
    "                           transforms.ToTensor(),\n",
    "                     transforms.Normalize(mean=(0.5,), std=(0.5,))\n",
    "                       ]),\n",
    "                 transform_test = transforms.Compose([\n",
    "                     transforms.ToPILImage(),\n",
    "                           transforms.ToTensor(),\n",
    "                     transforms.Normalize(mean=(0.5,), std=(0.5,))\n",
    "                       ])\n",
    "                )"
   ]
  },
  {
   "cell_type": "code",
   "execution_count": 6,
   "metadata": {},
   "outputs": [],
   "source": [
    "train_loader =DataLoader(dataset = train_dataset, batch_size = batch_size,shuffle = True)\n",
    "test_loader =DataLoader(dataset= test_dataset,batch_size = batch_size,shuffle=False)"
   ]
  },
  {
   "cell_type": "code",
   "execution_count": 7,
   "metadata": {},
   "outputs": [
    {
     "name": "stdout",
     "output_type": "stream",
     "text": [
      "<class 'torch.Tensor'>\n",
      "torch.Size([300, 1, 32, 32])\n",
      "torch.Size([300])\n"
     ]
    }
   ],
   "source": [
    "dataiter = iter(train_loader)\n",
    "images, labels = dataiter.next()\n",
    "print(type(images))\n",
    "print(images.shape)\n",
    "print(labels.shape)"
   ]
  },
  {
   "cell_type": "code",
   "execution_count": 8,
   "metadata": {},
   "outputs": [],
   "source": [
    "class ConvNet(nn.Module):\n",
    "    def __init__(self):\n",
    "        super(ConvNet,self).__init__()\n",
    "        self.conv1 = nn.Sequential(\n",
    "            nn.Conv2d(1,16,kernel_size =3,stride=1,padding=1),\n",
    "            nn.ReLU(inplace=True),\n",
    "            nn.MaxPool2d(kernel_size=2,stride=2),\n",
    "            nn.Conv2d(16,32,kernel_size=3,stride=1,padding=1),\n",
    "            nn.BatchNorm2d(32),\n",
    "            nn.ReLU(inplace=True),\n",
    "            nn.Conv2d(32,64,kernel_size=3,stride=1,padding=1),\n",
    "            nn.BatchNorm2d(64),\n",
    "            nn.ReLU(inplace=True),\n",
    "            nn.Conv2d(64,128,kernel_size=3,stride=1,padding=1),\n",
    "            nn.ReLU(inplace=True),\n",
    "            nn.MaxPool2d(kernel_size=2,stride=2),\n",
    "        \n",
    "        )\n",
    "        \n",
    "        self.fc = nn.Sequential(\n",
    "            nn.Linear(128*7*7,1024),\n",
    "            nn.ReLU(inplace=True),\n",
    "            nn.Linear(1024,512),\n",
    "            nn.BatchNorm1d(512),\n",
    "            nn.ReLU(inplace= True),\n",
    "            nn.Linear(512,256),\n",
    "            nn.BatchNorm1d(256),\n",
    "            nn.ReLU(inplace= True),\n",
    "            nn.Linear(256,10),\n",
    "        \n",
    "        )\n",
    "    def forward(self,x):\n",
    "        x = self.conv1(x)\n",
    "        x = x.view(x.size(0),-1)\n",
    "        x = self.fc(x)\n",
    "        \n",
    "        return x\n",
    "    \n"
   ]
  },
  {
   "cell_type": "code",
   "execution_count": 9,
   "metadata": {},
   "outputs": [],
   "source": [
    "class AlexNet(nn.Module):\n",
    "    def __init__(self, output_dim):\n",
    "        super().__init__()\n",
    "        \n",
    "        self.features = nn.Sequential(\n",
    "            nn.Conv2d(1, 64, 3, 1, 1), #in_channels, out_channels, kernel_size, stride, padding\n",
    "            nn.MaxPool2d(2), #kernel_size\n",
    "            nn.ReLU(inplace = True),\n",
    "            nn.Conv2d(64, 192, 3, padding = 1),\n",
    "            nn.MaxPool2d(2),\n",
    "            nn.ReLU(inplace = True),\n",
    "            nn.Conv2d(192, 384, 3, padding = 1),\n",
    "            nn.ReLU(inplace = True),\n",
    "            nn.Conv2d(384, 256, 3, padding = 1),\n",
    "            nn.ReLU(inplace = True),\n",
    "            nn.Conv2d(256, 256, 3, padding = 1),\n",
    "            nn.MaxPool2d(2),\n",
    "            nn.ReLU(inplace = True)\n",
    "        )\n",
    "        \n",
    "        self.classifier = nn.Sequential(\n",
    "            nn.Dropout(0.5),\n",
    "            nn.Linear(256 * 4 * 4, 4096),\n",
    "            nn.ReLU(inplace = True),\n",
    "            nn.Dropout(0.5),\n",
    "            nn.Linear(4096, 4096),\n",
    "            nn.ReLU(inplace = True),\n",
    "            nn.Linear(4096, output_dim),\n",
    "        )\n",
    "\n",
    "    def forward(self, x):\n",
    "        x = self.features(x)\n",
    "        h = x.view(x.shape[0], -1)\n",
    "        x = self.classifier(h)\n",
    "        return x"
   ]
  },
  {
   "cell_type": "code",
   "execution_count": 30,
   "metadata": {},
   "outputs": [],
   "source": [
    "model = AlexNet(10)\n",
    "model.to(device)\n",
    "criterion = nn.CrossEntropyLoss(reduction='sum')\n",
    "optimizer = torch.optim.Adam(params = model.parameters(), lr=0.001)\n",
    "exp_lr_scheduler = lr_scheduler.StepLR(optimizer, step_size=7, gamma=0.1)"
   ]
  },
  {
   "cell_type": "code",
   "execution_count": 31,
   "metadata": {},
   "outputs": [],
   "source": [
    "def train(epoch):\n",
    "    model.train()\n",
    "    exp_lr_scheduler.step()\n",
    "    \n",
    "    for batch_idx , (data,target) in enumerate(train_loader):\n",
    "        data,target = Variable(data),Variable(target)\n",
    "        \n",
    "        if torch.cuda.is_available():\n",
    "            data = data.cuda()\n",
    "            target = target.cuda()\n",
    "        \n",
    "        optimizer.zero_grad()\n",
    "        output = model(data)\n",
    "        loss  = criterion(output,target)\n",
    "        \n",
    "        loss.backward()\n",
    "        optimizer.step()\n",
    "        \n",
    "        if (batch_idx + 1)% 100 == 0:\n",
    "            print('Train Epoch: {} [{}/{} ({:.0f}%)]\\tLoss: {:.6f}'.format(\n",
    "                epoch, (batch_idx + 1) * len(data), len(train_loader.dataset),\n",
    "                100. * (batch_idx + 1) / len(train_loader), loss.data))         "
   ]
  },
  {
   "cell_type": "code",
   "execution_count": 32,
   "metadata": {},
   "outputs": [],
   "source": [
    "def evaluate(data_loader):\n",
    "    model.eval()\n",
    "    loss=0\n",
    "    correct=0\n",
    "    for data, target in data_loader:\n",
    "        data, target = Variable(data),Variable(target)\n",
    "        \n",
    "        if torch.cuda.is_available():\n",
    "            data = data.cuda()\n",
    "            target = target.cuda()\n",
    "        \n",
    "        output = model(data)\n",
    "        loss+= F.cross_entropy(output,target,size_average=False).data\n",
    "        \n",
    "        pred = output.data.max(1,keepdim=True)[1]\n",
    "        correct += pred.eq(target.data.view_as(pred)).cpu().sum()\n",
    "        \n",
    "    loss /= len(data_loader.dataset)\n",
    "    print('\\nAverage loss: {:.4f}, Accuracy: {}/{} ({:.3f}%)\\n'.format(\n",
    "        loss, correct, len(data_loader.dataset),\n",
    "        100. * correct / len(data_loader.dataset)))\n",
    "    return loss ,  correct / len(data_loader.dataset)"
   ]
  },
  {
   "cell_type": "code",
   "execution_count": 33,
   "metadata": {},
   "outputs": [
    {
     "name": "stdout",
     "output_type": "stream",
     "text": [
      "Train Epoch: 0 [30000/60000 (50%)]\tLoss: 164.839722\n",
      "Train Epoch: 0 [60000/60000 (100%)]\tLoss: 116.222839\n",
      "\n",
      "Average loss: 0.4474, Accuracy: 50121/60000 (83.535%)\n",
      "\n",
      "Train Epoch: 1 [30000/60000 (50%)]\tLoss: 142.406097\n",
      "Train Epoch: 1 [60000/60000 (100%)]\tLoss: 90.527596\n",
      "\n",
      "Average loss: 0.3457, Accuracy: 52308/60000 (87.180%)\n",
      "\n",
      "Train Epoch: 2 [30000/60000 (50%)]\tLoss: 96.899162\n",
      "Train Epoch: 2 [60000/60000 (100%)]\tLoss: 91.823471\n",
      "\n",
      "Average loss: 0.2988, Accuracy: 53569/60000 (89.282%)\n",
      "\n",
      "Train Epoch: 3 [30000/60000 (50%)]\tLoss: 111.833893\n",
      "Train Epoch: 3 [60000/60000 (100%)]\tLoss: 91.116043\n",
      "\n",
      "Average loss: 0.2750, Accuracy: 54024/60000 (90.040%)\n",
      "\n",
      "Train Epoch: 4 [30000/60000 (50%)]\tLoss: 95.902229\n",
      "Train Epoch: 4 [60000/60000 (100%)]\tLoss: 75.375824\n",
      "\n",
      "Average loss: 0.2520, Accuracy: 54287/60000 (90.478%)\n",
      "\n",
      "Train Epoch: 5 [30000/60000 (50%)]\tLoss: 87.229362\n",
      "Train Epoch: 5 [60000/60000 (100%)]\tLoss: 77.005058\n",
      "\n",
      "Average loss: 0.2214, Accuracy: 55135/60000 (91.892%)\n",
      "\n",
      "Train Epoch: 6 [30000/60000 (50%)]\tLoss: 81.618668\n",
      "Train Epoch: 6 [60000/60000 (100%)]\tLoss: 62.182293\n",
      "\n",
      "Average loss: 0.1924, Accuracy: 55716/60000 (92.860%)\n",
      "\n",
      "Train Epoch: 7 [30000/60000 (50%)]\tLoss: 73.993866\n",
      "Train Epoch: 7 [60000/60000 (100%)]\tLoss: 76.513161\n",
      "\n",
      "Average loss: 0.1871, Accuracy: 55854/60000 (93.090%)\n",
      "\n",
      "Train Epoch: 8 [30000/60000 (50%)]\tLoss: 57.540936\n",
      "Train Epoch: 8 [60000/60000 (100%)]\tLoss: 59.106407\n",
      "\n",
      "Average loss: 0.1797, Accuracy: 56006/60000 (93.343%)\n",
      "\n",
      "Train Epoch: 9 [30000/60000 (50%)]\tLoss: 58.266373\n",
      "Train Epoch: 9 [60000/60000 (100%)]\tLoss: 63.992634\n",
      "\n",
      "Average loss: 0.1774, Accuracy: 56076/60000 (93.460%)\n",
      "\n"
     ]
    }
   ],
   "source": [
    "loss_lis =[]\n",
    "acc_lis = []\n",
    "for epoch in range(10):\n",
    "    train(epoch)\n",
    "    loss , acc = evaluate(train_loader)\n",
    "    loss_lis.append(loss)\n",
    "    acc_lis.append(acc)\n",
    "    "
   ]
  },
  {
   "cell_type": "code",
   "execution_count": 40,
   "metadata": {},
   "outputs": [
    {
     "data": {
      "text/plain": [
       "[<matplotlib.lines.Line2D at 0x20d86e14160>]"
      ]
     },
     "execution_count": 40,
     "metadata": {},
     "output_type": "execute_result"
    },
    {
     "data": {
      "image/png": "[encoded data removed]",
      "text/plain": [
       "<Figure size 432x288 with 1 Axes>"
      ]
     },
     "metadata": {
      "needs_background": "light"
     },
     "output_type": "display_data"
    }
   ],
   "source": [
    "plt.plot(range(10),acc_lis)"
   ]
  },
  {
   "cell_type": "code",
   "execution_count": 41,
   "metadata": {},
   "outputs": [
    {
     "data": {
      "text/plain": [
       "[<matplotlib.lines.Line2D at 0x20d8d1f2fd0>]"
      ]
     },
     "execution_count": 41,
     "metadata": {},
     "output_type": "execute_result"
    },
    {
     "data": {
      "image/png": "[encoded data removed]",
      "text/plain": [
       "<Figure size 432x288 with 1 Axes>"
      ]
     },
     "metadata": {
      "needs_background": "light"
     },
     "output_type": "display_data"
    }
   ],
   "source": [
    "plt.plot(range(10),loss_lis)"
   ]
  },
  {
   "cell_type": "code",
   "execution_count": 42,
   "metadata": {},
   "outputs": [],
   "source": [
    "def prediciton(data_loader):\n",
    "    model.eval()\n",
    "    test_pred = torch.LongTensor()\n",
    "    \n",
    "    for i, (data,target) in enumerate(data_loader):\n",
    "        data,target = Variable(data, volatile=True) , Variable(target)\n",
    "        if torch.cuda.is_available():\n",
    "            data = data.cuda()\n",
    "            target = target.cuda()\n",
    "        output = model(data)\n",
    "        \n",
    "        pred = output.cpu().data.max(1, keepdim=True)[1]\n",
    "        test_pred = torch.cat((test_pred, pred), dim=0)\n",
    "        \n",
    "    return test_pred"
   ]
  },
  {
   "cell_type": "code",
   "execution_count": 43,
   "metadata": {},
   "outputs": [
    {
     "name": "stderr",
     "output_type": "stream",
     "text": [
      "C:\\Users\\Lenovo\\anaconda3\\envs\\gpuenv\\lib\\site-packages\\ipykernel_launcher.py:6: UserWarning: volatile was removed and now has no effect. Use `with torch.no_grad():` instead.\n",
      "  \n"
     ]
    }
   ],
   "source": [
    "test_pred = prediciton(test_loader)"
   ]
  },
  {
   "cell_type": "code",
   "execution_count": 44,
   "metadata": {},
   "outputs": [],
   "source": [
    "test_csv = pd.read_csv('fashion-mnist_test.csv')\n",
    "test_labels = torch.tensor(test_csv['label'])"
   ]
  },
  {
   "cell_type": "code",
   "execution_count": 45,
   "metadata": {},
   "outputs": [
    {
     "data": {
      "text/plain": [
       "tensor([0, 1, 2,  ..., 8, 8, 1])"
      ]
     },
     "execution_count": 45,
     "metadata": {},
     "output_type": "execute_result"
    }
   ],
   "source": [
    "test_labels"
   ]
  },
  {
   "cell_type": "code",
   "execution_count": 46,
   "metadata": {},
   "outputs": [
    {
     "data": {
      "text/plain": [
       "tensor([0, 1, 2,  ..., 8, 8, 1])"
      ]
     },
     "execution_count": 46,
     "metadata": {},
     "output_type": "execute_result"
    }
   ],
   "source": [
    "test_pred = test_pred.reshape((1,10000))\n",
    "test_pred = test_pred.squeeze()\n",
    "test_pred"
   ]
  },
  {
   "cell_type": "code",
   "execution_count": null,
   "metadata": {},
   "outputs": [],
   "source": []
  },
  {
   "cell_type": "code",
   "execution_count": 47,
   "metadata": {},
   "outputs": [],
   "source": [
    "evl = test_labels == test_pred"
   ]
  },
  {
   "cell_type": "code",
   "execution_count": 48,
   "metadata": {},
   "outputs": [
    {
     "data": {
      "text/plain": [
       "9232000000"
      ]
     },
     "execution_count": 48,
     "metadata": {},
     "output_type": "execute_result"
    }
   ],
   "source": [
    "test_acc=0\n",
    "for i in evl:\n",
    "    if i:\n",
    "        test_acc+=1\n",
    "        \n",
    "test_acc=(test_acc*10000)*100\n",
    "test_acc"
   ]
  },
  {
   "cell_type": "code",
   "execution_count": null,
   "metadata": {},
   "outputs": [],
   "source": []
  },
  {
   "cell_type": "code",
   "execution_count": null,
   "metadata": {},
   "outputs": [],
   "source": []
  }
 ],
 "metadata": {
  "kernelspec": {
   "display_name": "Python [conda env:gpuenv]",
   "language": "python",
   "name": "conda-env-gpuenv-py"
  },
  "language_info": {
   "codemirror_mode": {
    "name": "ipython",
    "version": 3
   },
   "file_extension": ".py",
   "mimetype": "text/x-python",
   "name": "python",
   "nbconvert_exporter": "python",
   "pygments_lexer": "ipython3",
   "version": "3.6.13"
  }
 },
 "nbformat": 4,
 "nbformat_minor": 4
}
