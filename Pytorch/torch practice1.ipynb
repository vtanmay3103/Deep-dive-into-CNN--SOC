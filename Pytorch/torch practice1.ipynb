{
 "cells": [
  {
   "cell_type": "code",
   "execution_count": 1,
   "metadata": {},
   "outputs": [],
   "source": [
    "import numpy as np\n",
    "import torch\n",
    "import math"
   ]
  },
  {
   "cell_type": "code",
   "execution_count": 2,
   "metadata": {},
   "outputs": [],
   "source": [
    "data = [[1,2],[3,4]]\n",
    "x_data = torch.tensor(data)"
   ]
  },
  {
   "cell_type": "code",
   "execution_count": 3,
   "metadata": {},
   "outputs": [
    {
     "name": "stdout",
     "output_type": "stream",
     "text": [
      "Ones Tensor: \n",
      " tensor([[1, 1],\n",
      "        [1, 1]]) \n",
      "\n",
      "Random Tensor: \n",
      " tensor([[0.5553, 0.1779],\n",
      "        [0.2419, 0.3589]]) \n",
      "\n"
     ]
    }
   ],
   "source": [
    "x_ones = torch.ones_like(x_data) # retains the properties of x_data\n",
    "print(f\"Ones Tensor: \\n {x_ones} \\n\")\n",
    "\n",
    "x_rand = torch.rand_like(x_data, dtype=torch.float) # overrides the datatype of x_data\n",
    "print(f\"Random Tensor: \\n {x_rand} \\n\")"
   ]
  },
  {
   "cell_type": "code",
   "execution_count": 4,
   "metadata": {},
   "outputs": [
    {
     "data": {
      "text/plain": [
       "tensor([[[0.0835, 0.3536],\n",
       "         [0.4103, 0.5858],\n",
       "         [0.6048, 0.9276],\n",
       "         [0.1979, 0.9297]],\n",
       "\n",
       "        [[0.3671, 0.8877],\n",
       "         [0.3201, 0.3493],\n",
       "         [0.0595, 0.6767],\n",
       "         [0.9492, 0.1711]],\n",
       "\n",
       "        [[0.4025, 0.1656],\n",
       "         [0.1364, 0.3969],\n",
       "         [0.9291, 0.7793],\n",
       "         [0.7086, 0.9648]]])"
      ]
     },
     "execution_count": 4,
     "metadata": {},
     "output_type": "execute_result"
    }
   ],
   "source": [
    "torch.rand(3,4,2) "
   ]
  },
  {
   "cell_type": "code",
   "execution_count": 5,
   "metadata": {},
   "outputs": [
    {
     "data": {
      "text/plain": [
       "tensor([[-1.1848,  0.4733,  0.0143,  1.0941, -0.6655],\n",
       "        [ 0.2513,  0.4041, -1.4058,  0.5588,  0.5938],\n",
       "        [-0.1059,  0.4276, -0.8348,  1.3807,  0.9695],\n",
       "        [-0.6974, -1.9407,  0.3101,  1.1979, -0.1503]])"
      ]
     },
     "execution_count": 5,
     "metadata": {},
     "output_type": "execute_result"
    }
   ],
   "source": [
    "torch.randn(4,5)"
   ]
  },
  {
   "cell_type": "code",
   "execution_count": 6,
   "metadata": {},
   "outputs": [
    {
     "data": {
      "text/plain": [
       "tensor(1.6520, dtype=torch.float64)"
      ]
     },
     "execution_count": 6,
     "metadata": {},
     "output_type": "execute_result"
    }
   ],
   "source": [
    "device = torch.device('cpu')\n",
    "torch.randn((),device=device,dtype=float)"
   ]
  },
  {
   "cell_type": "code",
   "execution_count": 7,
   "metadata": {},
   "outputs": [],
   "source": [
    "a = torch.randn((),device=device,requires_grad=True)"
   ]
  },
  {
   "cell_type": "code",
   "execution_count": 8,
   "metadata": {},
   "outputs": [
    {
     "name": "stdout",
     "output_type": "stream",
     "text": [
      "{'cost': 112089.02572571824, 'grad': [344091.3473502386, -6718.8156249826725, 44536.62760641865, -475.81112918903085]}\n",
      "{'cost': 2087.5910871926367, 'grad': [406.14951735974785, -80.98330733644184, -2855.3559368576553, 469.4221956026745]}\n",
      "{'cost': 921.1639734917906, 'grad': [268.4515130912258, -57.29095077910829, -1887.2966454482275, 332.0894190569188]}\n",
      "{'cost': 409.4915517445446, 'grad': [177.4376474689688, -40.530076343189464, -1247.4411970649164, 234.93430156253515]}\n",
      "{'cost': 184.9090719583353, 'grad': [117.2804666912929, -28.672714731484596, -824.517726923199, 166.20260352593777]}\n",
      "{'cost': 86.2713922287342, 'grad': [77.51854278687881, -20.284308450636047, -544.9791810709462, 117.57885176868167]}\n",
      "{'cost': 42.917239188621174, 'grad': [51.23721490313254, -14.349989987824713, -360.2133684973209, 83.18032383339948]}\n",
      "{'cost': 23.845876684892076, 'grad': [33.866118952306195, -10.151798527013865, -238.08922496673375, 58.84532948698307]}\n",
      "{'cost': 15.448511415892106, 'grad': [22.384394137342472, -7.181817786669254, -157.36917061611416, 41.62971052345411]}\n",
      "{'cost': 11.747102446457253, 'grad': [14.795350527219163, -5.0807259997986325, -104.01586154881198, 29.450643124531172]}\n",
      "{'cost': 10.113630123750033, 'grad': [9.77924155018069, -3.594323533652758, -68.75107374197185, 20.83464836873733]}\n",
      "{'cost': 9.391790037272719, 'grad': [6.463757997536969, -2.542778662946892, -45.4422053549594, 14.73932405528229]}\n",
      "{'cost': 9.07232406370095, 'grad': [4.272332085911769, -1.7988707104976696, -30.035807662762988, 10.427230148630716]}\n",
      "{'cost': 8.930699479326453, 'grad': [2.8238714164859733, -1.272598311539261, -19.85268397313795, 7.376669931722655]}\n",
      "{'cost': 8.867797365431999, 'grad': [1.8664864098841747, -0.9002906396125758, -13.12197312496054, 5.218572766299191]}\n",
      "{'cost': 8.839801599122234, 'grad': [1.2336863137301783, -0.6369042206203153, -8.6731939583179, 3.691842249853841]}\n",
      "{'cost': 8.827313010254347, 'grad': [0.81542620007313, -0.4505733686385005, -5.732696807272783, 2.611767586307261]}\n",
      "{'cost': 8.821727970161383, 'grad': [0.5389699799435466, -0.318754930416961, -3.7891246110775145, 1.8476764344834946]}\n",
      "{'cost': 8.819223402243534, 'grad': [0.3562414835982235, -0.22550091225351965, -2.5044871202779797, 1.3071255744361756]}\n",
      "{'cost': 8.818096887425314, 'grad': [0.2354639392892448, -0.15952901923966234, -1.6553838628844735, 0.9247167065929602]}\n"
     ]
    }
   ],
   "source": [
    "import torch\n",
    "import math\n",
    "\n",
    "x = torch.linspace(-math.pi,math.pi,2000,device = device,dtype=float)\n",
    "y = torch.sin(x)\n",
    "\n",
    "learning_rate = 0.000002\n",
    "a = torch.randn((),device = device,dtype=float,requires_grad = True)\n",
    "b = torch.randn((),device = device,dtype=float,requires_grad = True)\n",
    "c = torch.randn((),device = device,dtype=float,requires_grad = True)\n",
    "d = torch.randn((),device = device,dtype=float,requires_grad = True)\n",
    "\n",
    "for t in range(2000):\n",
    "    y_pred = a*x**3+b*x**2+c*x+d\n",
    "    loss = (y_pred-y).pow(2).sum()\n",
    "    loss.backward()\n",
    "    if t%100 == 0:\n",
    "        show = {'cost':loss.item(),'grad':[a.grad.item(),b.grad.item(),c.grad.item(),d.grad.item()]}\n",
    "        print(show)\n",
    "    with torch.no_grad():\n",
    "        a -= learning_rate*a.grad\n",
    "        b -= learning_rate*b.grad\n",
    "        c -= learning_rate*c.grad\n",
    "        d -= learning_rate*d.grad\n",
    "        \n",
    "        a.grad = None\n",
    "        b.grad = None\n",
    "        c.grad = None\n",
    "        d.grad = None\n",
    "        \n",
    "        "
   ]
  },
  {
   "cell_type": "code",
   "execution_count": 9,
   "metadata": {},
   "outputs": [
    {
     "name": "stdout",
     "output_type": "stream",
     "text": [
      "99 1080.642333984375\n",
      "199 727.4095458984375\n",
      "299 490.95538330078125\n",
      "399 332.5627746582031\n",
      "499 226.38375854492188\n",
      "599 155.1526336669922\n",
      "699 107.32917022705078\n",
      "799 75.19490814208984\n",
      "899 53.58453369140625\n",
      "999 39.038944244384766\n",
      "1099 29.23948097229004\n",
      "1199 22.631553649902344\n",
      "1299 18.17142105102539\n",
      "1399 15.157968521118164\n",
      "1499 13.119929313659668\n",
      "1599 11.74011516571045\n",
      "1699 10.805007934570312\n",
      "1799 10.170573234558105\n",
      "1899 9.739668846130371\n",
      "1999 9.446674346923828\n",
      "2099 9.247236251831055\n",
      "2199 9.111322402954102\n",
      "2299 9.01858901977539\n",
      "2399 8.955249786376953\n",
      "2499 8.911934852600098\n",
      "2599 8.882282257080078\n",
      "2699 8.861959457397461\n",
      "2799 8.84801197052002\n",
      "2899 8.838430404663086\n",
      "2999 8.831843376159668\n"
     ]
    }
   ],
   "source": [
    "import torch\n",
    "import math\n",
    "\n",
    "x = torch.linspace(-math.pi,math.pi,2000)\n",
    "y = torch.sin(x)\n",
    "\n",
    "p = torch.tensor([1, 2, 3])\n",
    "xx = x.unsqueeze(-1).pow(p)\n",
    "\n",
    "loss_fn = torch.nn.MSELoss(reduction='sum')\n",
    "\n",
    "model  = torch.nn.Sequential(\n",
    "    torch.nn.Linear(3,1),\n",
    "    torch.nn.Flatten(0,1)\n",
    ")\n",
    "\n",
    "learning_rate = 1e-6\n",
    "\n",
    "\n",
    "for t in range(3000):\n",
    "    y_pred = model(xx)\n",
    "    loss= loss_fn(y_pred,y)\n",
    "    if t % 100 == 99:\n",
    "        print(t, loss.item())\n",
    "    model.zero_grad()\n",
    "    loss.backward()\n",
    "    with torch.no_grad():\n",
    "        for param in model.parameters():\n",
    "            param -= learning_rate*param.grad\n",
    "            "
   ]
  },
  {
   "cell_type": "code",
   "execution_count": 10,
   "metadata": {},
   "outputs": [
    {
     "name": "stdout",
     "output_type": "stream",
     "text": [
      "0 20247.02734375\n",
      "100 3078.748291015625\n",
      "200 1795.03759765625\n",
      "300 1541.400146484375\n",
      "400 1327.697021484375\n",
      "500 1117.6881103515625\n",
      "600 923.993408203125\n",
      "700 750.7020263671875\n",
      "800 598.0798950195312\n",
      "900 465.39141845703125\n",
      "1000 351.78729248046875\n",
      "1100 256.4897155761719\n",
      "1200 178.66204833984375\n",
      "1300 117.57154083251953\n",
      "1400 72.358642578125\n",
      "1500 41.059776306152344\n",
      "1600 22.12139320373535\n",
      "1700 12.713974952697754\n",
      "1800 9.494978904724121\n",
      "1900 8.934830665588379\n"
     ]
    }
   ],
   "source": [
    "import torch \n",
    "import math\n",
    "\n",
    "x = torch.linspace(-math.pi,math.pi,2000)\n",
    "y= torch.sin(x)\n",
    "\n",
    "p= torch.tensor([1,2,3])\n",
    "xx = x.unsqueeze(-1).pow(p)\n",
    "\n",
    "model = torch.nn.Sequential(\n",
    "torch.nn.Linear(3,1),\n",
    "    torch.nn.Flatten(0,1)\n",
    ")\n",
    "\n",
    "learning_rate = 0.001\n",
    "loss_fn = torch.nn.MSELoss(reduction='sum')\n",
    "optimizer = torch.optim.RMSprop(model.parameters(),lr = learning_rate)\n",
    "\n",
    "for t in range(2000):\n",
    "    y_pred= model(xx)\n",
    "    \n",
    "    loss = loss_fn(y_pred,y)\n",
    "    if t%100==0:\n",
    "        print(t,loss.item())\n",
    "    optimizer.zero_grad()\n",
    "    loss.backward()\n",
    "    optimizer.step()"
   ]
  },
  {
   "cell_type": "code",
   "execution_count": null,
   "metadata": {},
   "outputs": [],
   "source": []
  }
 ],
 "metadata": {
  "kernelspec": {
   "display_name": "Python 3",
   "language": "python",
   "name": "python3"
  },
  "language_info": {
   "codemirror_mode": {
    "name": "ipython",
    "version": 3
   },
   "file_extension": ".py",
   "mimetype": "text/x-python",
   "name": "python",
   "nbconvert_exporter": "python",
   "pygments_lexer": "ipython3",
   "version": "3.8.5"
  }
 },
 "nbformat": 4,
 "nbformat_minor": 4
}
